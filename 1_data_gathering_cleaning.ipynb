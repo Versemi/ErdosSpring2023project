{
 "cells": [
  {
   "cell_type": "markdown",
   "id": "bf9779d3",
   "metadata": {},
   "source": [
    "## Data gathering"
   ]
  },
  {
   "cell_type": "code",
   "execution_count": 4,
   "id": "79d135bd",
   "metadata": {},
   "outputs": [],
   "source": [
    "import pandas as pd\n",
    "import datetime\n",
    "import yfinance as yf"
   ]
  },
  {
   "cell_type": "code",
   "execution_count": 11,
   "id": "58aa619a",
   "metadata": {},
   "outputs": [
    {
     "name": "stdout",
     "output_type": "stream",
     "text": [
      "[*********************100%***********************]  1 of 1 completed\n"
     ]
    },
    {
     "name": "stderr",
     "output_type": "stream",
     "text": [
      "C:\\Users\\rwang\\AppData\\Local\\Temp\\ipykernel_36164\\1000412562.py:19: FutureWarning: The frame.append method is deprecated and will be removed from pandas in a future version. Use pandas.concat instead.\n",
      "  combined_data = combined_data.append(data)\n"
     ]
    },
    {
     "name": "stdout",
     "output_type": "stream",
     "text": [
      "[*********************100%***********************]  1 of 1 completed\n"
     ]
    },
    {
     "name": "stderr",
     "output_type": "stream",
     "text": [
      "C:\\Users\\rwang\\AppData\\Local\\Temp\\ipykernel_36164\\1000412562.py:19: FutureWarning: The frame.append method is deprecated and will be removed from pandas in a future version. Use pandas.concat instead.\n",
      "  combined_data = combined_data.append(data)\n"
     ]
    },
    {
     "name": "stdout",
     "output_type": "stream",
     "text": [
      "[*********************100%***********************]  1 of 1 completed\n"
     ]
    },
    {
     "name": "stderr",
     "output_type": "stream",
     "text": [
      "C:\\Users\\rwang\\AppData\\Local\\Temp\\ipykernel_36164\\1000412562.py:19: FutureWarning: The frame.append method is deprecated and will be removed from pandas in a future version. Use pandas.concat instead.\n",
      "  combined_data = combined_data.append(data)\n"
     ]
    },
    {
     "name": "stdout",
     "output_type": "stream",
     "text": [
      "[*********************100%***********************]  1 of 1 completed\n"
     ]
    },
    {
     "name": "stderr",
     "output_type": "stream",
     "text": [
      "C:\\Users\\rwang\\AppData\\Local\\Temp\\ipykernel_36164\\1000412562.py:19: FutureWarning: The frame.append method is deprecated and will be removed from pandas in a future version. Use pandas.concat instead.\n",
      "  combined_data = combined_data.append(data)\n"
     ]
    }
   ],
   "source": [
    "import pandas as pd\n",
    "from datetime import date\n",
    "import glob\n",
    "\n",
    "# Define the list of tickers\n",
    "tickers = [\"AAPL\", \"MSFT\", \"GOOGL\", \"AMZN\"]\n",
    "\n",
    "# Get today's date\n",
    "today = date.today().strftime(\"%Y-%m-%d\")\n",
    "\n",
    "# Initialize an empty DataFrame to store the combined data\n",
    "combined_data = pd.DataFrame()\n",
    "\n",
    "# Loop through each ticker and get the historical stock data\n",
    "for ticker in tickers:\n",
    "    data = yf.download(ticker, start=\"2018-01-01\", end=today)\n",
    "    \n",
    "    # Append the data to the combined DataFrame\n",
    "    combined_data = combined_data.append(data)\n",
    "\n",
    "# Save the combined data as a CSV file\n",
    "combined_data.to_csv(\"combined_stock_data.csv\")"
   ]
  },
  {
   "cell_type": "code",
   "execution_count": 13,
   "id": "1c50279e",
   "metadata": {},
   "outputs": [
    {
     "name": "stdout",
     "output_type": "stream",
     "text": [
      "         Date       Open       High        Low      Close  Adj Close  \\\n",
      "0  2018-01-02  42.540001  43.075001  42.314999  43.064999  40.831585   \n",
      "1  2018-01-03  43.132500  43.637501  42.990002  43.057499  40.824474   \n",
      "2  2018-01-04  43.134998  43.367500  43.020000  43.257500  41.014111   \n",
      "3  2018-01-05  43.360001  43.842499  43.262501  43.750000  41.481060   \n",
      "4  2018-01-08  43.587502  43.902500  43.482498  43.587502  41.326996   \n",
      "\n",
      "      Volume  \n",
      "0  102223600  \n",
      "1  118071600  \n",
      "2   89738400  \n",
      "3   94640000  \n",
      "4   82271200  \n"
     ]
    }
   ],
   "source": [
    "# Read the combined CSV file\n",
    "combined_data = pd.read_csv(\"combined_stock_data.csv\")\n",
    "\n",
    "# Print the head of the data\n",
    "print(combined_data.head())"
   ]
  },
  {
   "cell_type": "code",
   "execution_count": 14,
   "id": "b7e7e6a3",
   "metadata": {},
   "outputs": [
    {
     "name": "stdout",
     "output_type": "stream",
     "text": [
      "            Date        Open        High         Low       Close   Adj Close  \\\n",
      "5431  2023-05-19  118.160004  118.309998  115.699997  116.250000  116.250000   \n",
      "5432  2023-05-22  116.769997  116.769997  114.250000  115.010002  115.010002   \n",
      "5433  2023-05-23  114.269997  117.139999  113.779999  114.989998  114.989998   \n",
      "5434  2023-05-24  115.349998  117.339996  115.019997  116.750000  116.750000   \n",
      "5435  2023-05-25  116.629997  116.870003  114.309998  115.000000  115.000000   \n",
      "\n",
      "        Volume  \n",
      "5431  54990200  \n",
      "5432  70741100  \n",
      "5433  67576300  \n",
      "5434  63487900  \n",
      "5435  66496700  \n"
     ]
    }
   ],
   "source": [
    "# Print the tail of the data\n",
    "print(combined_data.tail())"
   ]
  },
  {
   "cell_type": "markdown",
   "id": "5800f1a0",
   "metadata": {},
   "source": [
    "## Data cleaning"
   ]
  },
  {
   "cell_type": "code",
   "execution_count": 15,
   "id": "eda88a90",
   "metadata": {},
   "outputs": [
    {
     "name": "stdout",
     "output_type": "stream",
     "text": [
      "Date         0\n",
      "Open         0\n",
      "High         0\n",
      "Low          0\n",
      "Close        0\n",
      "Adj Close    0\n",
      "Volume       0\n",
      "dtype: int64\n"
     ]
    }
   ],
   "source": [
    "# check on missing values\n",
    "missing_values = combined_data.isnull().sum()\n",
    "print(missing_values)"
   ]
  },
  {
   "cell_type": "code",
   "execution_count": 17,
   "id": "4a94f425",
   "metadata": {},
   "outputs": [],
   "source": [
    "# remove duplicates\n",
    "combined_data.drop_duplicates(inplace=True)"
   ]
  },
  {
   "cell_type": "markdown",
   "id": "8ab540f2",
   "metadata": {},
   "source": [
    "### Perform basic data manipulation and feature engineering"
   ]
  },
  {
   "cell_type": "code",
   "execution_count": 18,
   "id": "4445bb61",
   "metadata": {},
   "outputs": [],
   "source": [
    "# extract date-related featured \n",
    "combined_data['Date'] = pd.to_datetime(combined_data['Date'])\n",
    "combined_data['Year'] = combined_data['Date'].dt.year\n",
    "combined_data['Month'] = combined_data['Date'].dt.month\n",
    "combined_data['Day'] = combined_data['Date'].dt.day\n",
    "\n",
    "# calculate daily returns\n",
    "combined_data['Daily_Return'] = combined_data['Close'].pct_change()\n",
    "\n",
    "# Calculate moving averages\n",
    "combined_data['MA_50'] = combined_data['Close'].rolling(window=50).mean()\n",
    "combined_data['MA_200'] = combined_data['Close'].rolling(window=200).mean()\n",
    "\n",
    "# Save the cleaned and preprocessed data to a new CSV file:\n",
    "combined_data.to_csv(\"cleaned_stock_data.csv\", index=False)"
   ]
  },
  {
   "cell_type": "code",
   "execution_count": 19,
   "id": "210abfc6",
   "metadata": {},
   "outputs": [],
   "source": [
    "# Read the cleaned CSV file into a DataFrame\n",
    "cleaned_data = pd.read_csv(\"cleaned_stock_data.csv\")"
   ]
  },
  {
   "cell_type": "code",
   "execution_count": 20,
   "id": "54c85220",
   "metadata": {},
   "outputs": [
    {
     "name": "stdout",
     "output_type": "stream",
     "text": [
      "Head of the data:\n",
      "         Date       Open       High        Low      Close  Adj Close  \\\n",
      "0  2018-01-02  42.540001  43.075001  42.314999  43.064999  40.831585   \n",
      "1  2018-01-03  43.132500  43.637501  42.990002  43.057499  40.824474   \n",
      "2  2018-01-04  43.134998  43.367500  43.020000  43.257500  41.014111   \n",
      "3  2018-01-05  43.360001  43.842499  43.262501  43.750000  41.481060   \n",
      "4  2018-01-08  43.587502  43.902500  43.482498  43.587502  41.326996   \n",
      "\n",
      "      Volume  Year  Month  Day  Daily_Return  MA_50  MA_200  \n",
      "0  102223600  2018      1    2           NaN    NaN     NaN  \n",
      "1  118071600  2018      1    3     -0.000174    NaN     NaN  \n",
      "2   89738400  2018      1    4      0.004645    NaN     NaN  \n",
      "3   94640000  2018      1    5      0.011385    NaN     NaN  \n",
      "4   82271200  2018      1    8     -0.003714    NaN     NaN  \n"
     ]
    }
   ],
   "source": [
    "# Retrieve the head of the data\n",
    "head_data = cleaned_data.head()\n",
    "print(\"Head of the data:\")\n",
    "print(head_data)"
   ]
  },
  {
   "cell_type": "code",
   "execution_count": 21,
   "id": "8a494790",
   "metadata": {},
   "outputs": [
    {
     "name": "stdout",
     "output_type": "stream",
     "text": [
      "Tail of the data:\n",
      "            Date        Open        High         Low       Close   Adj Close  \\\n",
      "5431  2023-05-19  118.160004  118.309998  115.699997  116.250000  116.250000   \n",
      "5432  2023-05-22  116.769997  116.769997  114.250000  115.010002  115.010002   \n",
      "5433  2023-05-23  114.269997  117.139999  113.779999  114.989998  114.989998   \n",
      "5434  2023-05-24  115.349998  117.339996  115.019997  116.750000  116.750000   \n",
      "5435  2023-05-25  116.629997  116.870003  114.309998  115.000000  115.000000   \n",
      "\n",
      "        Volume  Year  Month  Day  Daily_Return     MA_50     MA_200  \n",
      "5431  54990200  2023      5   19     -0.016081  103.3994  105.77485  \n",
      "5432  70741100  2023      5   22     -0.010667  103.8850  105.63705  \n",
      "5433  67576300  2023      5   23     -0.000174  104.3362  105.50800  \n",
      "5434  63487900  2023      5   24      0.015306  104.7736  105.39470  \n",
      "5435  66496700  2023      5   25     -0.014989  105.1496  105.28055  \n"
     ]
    }
   ],
   "source": [
    "# Retrieve the tail of the data\n",
    "tail_data = cleaned_data.tail()\n",
    "print(\"Tail of the data:\")\n",
    "print(tail_data)"
   ]
  },
  {
   "cell_type": "code",
   "execution_count": 22,
   "id": "906ed722",
   "metadata": {},
   "outputs": [
    {
     "name": "stdout",
     "output_type": "stream",
     "text": [
      "Head of the filled data:\n",
      "         Date       Open       High        Low      Close  Adj Close  \\\n",
      "0  2018-01-02  42.540001  43.075001  42.314999  43.064999  40.831585   \n",
      "1  2018-01-03  43.132500  43.637501  42.990002  43.057499  40.824474   \n",
      "2  2018-01-04  43.134998  43.367500  43.020000  43.257500  41.014111   \n",
      "3  2018-01-05  43.360001  43.842499  43.262501  43.750000  41.481060   \n",
      "4  2018-01-08  43.587502  43.902500  43.482498  43.587502  41.326996   \n",
      "\n",
      "      Volume  Year  Month  Day  Daily_Return       MA_50      MA_200  \n",
      "0  102223600  2018      1    2      0.000649  127.270888  128.850617  \n",
      "1  118071600  2018      1    3     -0.000174  127.270888  128.850617  \n",
      "2   89738400  2018      1    4      0.004645  127.270888  128.850617  \n",
      "3   94640000  2018      1    5      0.011385  127.270888  128.850617  \n",
      "4   82271200  2018      1    8     -0.003714  127.270888  128.850617  \n",
      "Tail of the filled data:\n",
      "            Date        Open        High         Low       Close   Adj Close  \\\n",
      "5431  2023-05-19  118.160004  118.309998  115.699997  116.250000  116.250000   \n",
      "5432  2023-05-22  116.769997  116.769997  114.250000  115.010002  115.010002   \n",
      "5433  2023-05-23  114.269997  117.139999  113.779999  114.989998  114.989998   \n",
      "5434  2023-05-24  115.349998  117.339996  115.019997  116.750000  116.750000   \n",
      "5435  2023-05-25  116.629997  116.870003  114.309998  115.000000  115.000000   \n",
      "\n",
      "        Volume  Year  Month  Day  Daily_Return     MA_50     MA_200  \n",
      "5431  54990200  2023      5   19     -0.016081  103.3994  105.77485  \n",
      "5432  70741100  2023      5   22     -0.010667  103.8850  105.63705  \n",
      "5433  67576300  2023      5   23     -0.000174  104.3362  105.50800  \n",
      "5434  63487900  2023      5   24      0.015306  104.7736  105.39470  \n",
      "5435  66496700  2023      5   25     -0.014989  105.1496  105.28055  \n"
     ]
    },
    {
     "name": "stderr",
     "output_type": "stream",
     "text": [
      "C:\\Users\\rwang\\AppData\\Local\\Temp\\ipykernel_36164\\4146376500.py:3: FutureWarning: Dropping of nuisance columns in DataFrame reductions (with 'numeric_only=None') is deprecated; in a future version this will raise TypeError.  Select only valid columns before calling the reduction.\n",
      "  cleaned_data_filled = cleaned_data.fillna(cleaned_data.mean())\n"
     ]
    }
   ],
   "source": [
    "# clean remaining NaN\n",
    "# Fill missing values with the mean\n",
    "cleaned_data_filled = cleaned_data.fillna(cleaned_data.mean())\n",
    "\n",
    "# Retrieve the head of the filled data\n",
    "head_data_filled = cleaned_data_filled.head()\n",
    "print(\"Head of the filled data:\")\n",
    "print(head_data_filled)\n",
    "\n",
    "# Retrieve the tail of the filled data\n",
    "tail_data_filled = cleaned_data_filled.tail()\n",
    "print(\"Tail of the filled data:\")\n",
    "print(tail_data_filled)"
   ]
  },
  {
   "cell_type": "code",
   "execution_count": null,
   "id": "d86b4e60",
   "metadata": {},
   "outputs": [],
   "source": []
  }
 ],
 "metadata": {
  "kernelspec": {
   "display_name": "Python 3 (ipykernel)",
   "language": "python",
   "name": "python3"
  },
  "language_info": {
   "codemirror_mode": {
    "name": "ipython",
    "version": 3
   },
   "file_extension": ".py",
   "mimetype": "text/x-python",
   "name": "python",
   "nbconvert_exporter": "python",
   "pygments_lexer": "ipython3",
   "version": "3.9.12"
  }
 },
 "nbformat": 4,
 "nbformat_minor": 5
}

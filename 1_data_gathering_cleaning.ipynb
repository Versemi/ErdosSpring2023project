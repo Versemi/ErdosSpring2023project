{
 "cells": [
  {
   "cell_type": "markdown",
   "id": "bf9779d3",
   "metadata": {},
   "source": [
    "## Data gathering"
   ]
  },
  {
   "cell_type": "code",
   "execution_count": 1,
   "id": "79d135bd",
   "metadata": {},
   "outputs": [],
   "source": [
    "import pandas as pd\n",
    "import datetime\n",
    "import yfinance as yf"
   ]
  },
  {
   "cell_type": "code",
   "execution_count": 2,
   "id": "58aa619a",
   "metadata": {},
   "outputs": [
    {
     "name": "stdout",
     "output_type": "stream",
     "text": [
      "[*********************100%***********************]  1 of 1 completed\n"
     ]
    },
    {
     "name": "stderr",
     "output_type": "stream",
     "text": [
      "C:\\Users\\rwang\\AppData\\Local\\Temp\\ipykernel_48180\\1000412562.py:19: FutureWarning: The frame.append method is deprecated and will be removed from pandas in a future version. Use pandas.concat instead.\n",
      "  combined_data = combined_data.append(data)\n"
     ]
    },
    {
     "name": "stdout",
     "output_type": "stream",
     "text": [
      "[*********************100%***********************]  1 of 1 completed\n"
     ]
    },
    {
     "name": "stderr",
     "output_type": "stream",
     "text": [
      "C:\\Users\\rwang\\AppData\\Local\\Temp\\ipykernel_48180\\1000412562.py:19: FutureWarning: The frame.append method is deprecated and will be removed from pandas in a future version. Use pandas.concat instead.\n",
      "  combined_data = combined_data.append(data)\n"
     ]
    },
    {
     "name": "stdout",
     "output_type": "stream",
     "text": [
      "[*********************100%***********************]  1 of 1 completed\n"
     ]
    },
    {
     "name": "stderr",
     "output_type": "stream",
     "text": [
      "C:\\Users\\rwang\\AppData\\Local\\Temp\\ipykernel_48180\\1000412562.py:19: FutureWarning: The frame.append method is deprecated and will be removed from pandas in a future version. Use pandas.concat instead.\n",
      "  combined_data = combined_data.append(data)\n"
     ]
    },
    {
     "name": "stdout",
     "output_type": "stream",
     "text": [
      "[*********************100%***********************]  1 of 1 completed\n"
     ]
    },
    {
     "name": "stderr",
     "output_type": "stream",
     "text": [
      "C:\\Users\\rwang\\AppData\\Local\\Temp\\ipykernel_48180\\1000412562.py:19: FutureWarning: The frame.append method is deprecated and will be removed from pandas in a future version. Use pandas.concat instead.\n",
      "  combined_data = combined_data.append(data)\n"
     ]
    }
   ],
   "source": [
    "import pandas as pd\n",
    "from datetime import date\n",
    "import glob\n",
    "\n",
    "# Define the list of tickers\n",
    "tickers = [\"AAPL\", \"MSFT\", \"GOOGL\", \"AMZN\"]\n",
    "\n",
    "# Get today's date\n",
    "today = date.today().strftime(\"%Y-%m-%d\")\n",
    "\n",
    "# Initialize an empty DataFrame to store the combined data\n",
    "combined_data = pd.DataFrame()\n",
    "\n",
    "# Loop through each ticker and get the historical stock data\n",
    "for ticker in tickers:\n",
    "    data = yf.download(ticker, start=\"2018-01-01\", end=today)\n",
    "    \n",
    "    # Append the data to the combined DataFrame\n",
    "    combined_data = combined_data.append(data)\n",
    "\n",
    "# Save the combined data as a CSV file\n",
    "combined_data.to_csv(\"combined_stock_data.csv\")"
   ]
  },
  {
   "cell_type": "code",
   "execution_count": 3,
   "id": "1c50279e",
   "metadata": {},
   "outputs": [
    {
     "name": "stdout",
     "output_type": "stream",
     "text": [
      "         Date       Open       High        Low      Close  Adj Close  \\\n",
      "0  2018-01-02  42.540001  43.075001  42.314999  43.064999  40.831593   \n",
      "1  2018-01-03  43.132500  43.637501  42.990002  43.057499  40.824478   \n",
      "2  2018-01-04  43.134998  43.367500  43.020000  43.257500  41.014103   \n",
      "3  2018-01-05  43.360001  43.842499  43.262501  43.750000  41.481068   \n",
      "4  2018-01-08  43.587502  43.902500  43.482498  43.587502  41.326988   \n",
      "\n",
      "      Volume  \n",
      "0  102223600  \n",
      "1  118071600  \n",
      "2   89738400  \n",
      "3   94640000  \n",
      "4   82271200  \n"
     ]
    }
   ],
   "source": [
    "# Read the combined CSV file\n",
    "combined_data = pd.read_csv(\"combined_stock_data.csv\")\n",
    "\n",
    "# Print the head of the data\n",
    "print(combined_data.head())"
   ]
  },
  {
   "cell_type": "code",
   "execution_count": 4,
   "id": "b7e7e6a3",
   "metadata": {},
   "outputs": [
    {
     "name": "stdout",
     "output_type": "stream",
     "text": [
      "            Date        Open        High         Low       Close   Adj Close  \\\n",
      "5435  2023-05-22  116.769997  116.769997  114.250000  115.010002  115.010002   \n",
      "5436  2023-05-23  114.269997  117.139999  113.779999  114.989998  114.989998   \n",
      "5437  2023-05-24  115.349998  117.339996  115.019997  116.750000  116.750000   \n",
      "5438  2023-05-25  116.629997  116.870003  114.309998  115.000000  115.000000   \n",
      "5439  2023-05-26  116.040001  121.500000  116.019997  120.110001  120.110001   \n",
      "\n",
      "        Volume  \n",
      "5435  70741100  \n",
      "5436  67576300  \n",
      "5437  63487900  \n",
      "5438  66496700  \n",
      "5439  96681000  \n"
     ]
    }
   ],
   "source": [
    "# Print the tail of the data\n",
    "print(combined_data.tail())"
   ]
  },
  {
   "cell_type": "markdown",
   "id": "9001764d",
   "metadata": {},
   "source": [
    "Descriptions on each column: \n",
    "\n",
    "`Date`: The date of the recorded stock data.\n",
    "\n",
    "`Open`: The opening price of the stock on that particular date. The opening price of a stock provides information about the initial sentiment of market participants and can be an indicator of market expectations or reaction to news events.\n",
    "\n",
    "`High`: The highest price of the stock during the trading day.\n",
    "\n",
    "`Low`: The lowest price of the stock during the trading day. The highest and lowest prices reached during a trading day provide insights into the stock's volatility and the range within which the stock price fluctuated.\n",
    "\n",
    "`Close`: The closing price of the stock on that particular date. The closing price is a crucial factor as it represents the final price at which a stock trades on a given day. It reflects the sentiment of market participants and incorporates the overall market activity during the trading day.\n",
    "\n",
    "`Adj Close`: The adjusted closing price of the stock, taking into account factors such as dividends and stock splits. The adjusted closing price takes into account factors such as dividends and stock splits. It provides a more accurate representation of the stock's actual value over time, allowing for consistent comparison across different periods.\n",
    "\n",
    "`Volume`: The trading volume of the stock on that particular date. Trading volume refers to the number of shares or contracts traded during a specific period. It reflects the level of investor interest and liquidity in the stock. Unusually high or low volume levels can indicate significant market activity or lack thereof, which may have implications for future price movements."
   ]
  },
  {
   "cell_type": "markdown",
   "id": "5800f1a0",
   "metadata": {},
   "source": [
    "## Data cleaning"
   ]
  },
  {
   "cell_type": "code",
   "execution_count": 5,
   "id": "eda88a90",
   "metadata": {},
   "outputs": [
    {
     "name": "stdout",
     "output_type": "stream",
     "text": [
      "Date         0\n",
      "Open         0\n",
      "High         0\n",
      "Low          0\n",
      "Close        0\n",
      "Adj Close    0\n",
      "Volume       0\n",
      "dtype: int64\n"
     ]
    }
   ],
   "source": [
    "# check on missing values\n",
    "missing_values = combined_data.isnull().sum()\n",
    "print(missing_values)"
   ]
  },
  {
   "cell_type": "code",
   "execution_count": 6,
   "id": "4a94f425",
   "metadata": {},
   "outputs": [],
   "source": [
    "# remove duplicates\n",
    "combined_data.drop_duplicates(inplace=True)"
   ]
  },
  {
   "cell_type": "markdown",
   "id": "8ab540f2",
   "metadata": {},
   "source": [
    "### Perform basic data manipulation and feature engineering"
   ]
  },
  {
   "cell_type": "code",
   "execution_count": 7,
   "id": "4445bb61",
   "metadata": {},
   "outputs": [],
   "source": [
    "# extract date-related featured \n",
    "combined_data['Date'] = pd.to_datetime(combined_data['Date'])\n",
    "combined_data['Year'] = combined_data['Date'].dt.year\n",
    "combined_data['Month'] = combined_data['Date'].dt.month\n",
    "combined_data['Day'] = combined_data['Date'].dt.day\n",
    "\n",
    "# calculate daily returns\n",
    "combined_data['Daily_Return'] = combined_data['Close'].pct_change()\n",
    "\n",
    "# Calculate moving averages\n",
    "combined_data['MA_50'] = combined_data['Close'].rolling(window=50).mean()\n",
    "combined_data['MA_200'] = combined_data['Close'].rolling(window=200).mean()\n",
    "\n",
    "# Save the cleaned and preprocessed data to a new CSV file:\n",
    "combined_data.to_csv(\"cleaned_stock_data.csv\", index=False)"
   ]
  },
  {
   "cell_type": "code",
   "execution_count": 8,
   "id": "210abfc6",
   "metadata": {},
   "outputs": [],
   "source": [
    "# Read the cleaned CSV file into a DataFrame\n",
    "cleaned_data = pd.read_csv(\"cleaned_stock_data.csv\")"
   ]
  },
  {
   "cell_type": "code",
   "execution_count": 9,
   "id": "54c85220",
   "metadata": {},
   "outputs": [
    {
     "name": "stdout",
     "output_type": "stream",
     "text": [
      "Head of the data:\n",
      "         Date       Open       High        Low      Close  Adj Close  \\\n",
      "0  2018-01-02  42.540001  43.075001  42.314999  43.064999  40.831593   \n",
      "1  2018-01-03  43.132500  43.637501  42.990002  43.057499  40.824478   \n",
      "2  2018-01-04  43.134998  43.367500  43.020000  43.257500  41.014103   \n",
      "3  2018-01-05  43.360001  43.842499  43.262501  43.750000  41.481068   \n",
      "4  2018-01-08  43.587502  43.902500  43.482498  43.587502  41.326988   \n",
      "\n",
      "      Volume  Year  Month  Day  Daily_Return  MA_50  MA_200  \n",
      "0  102223600  2018      1    2           NaN    NaN     NaN  \n",
      "1  118071600  2018      1    3     -0.000174    NaN     NaN  \n",
      "2   89738400  2018      1    4      0.004645    NaN     NaN  \n",
      "3   94640000  2018      1    5      0.011385    NaN     NaN  \n",
      "4   82271200  2018      1    8     -0.003714    NaN     NaN  \n"
     ]
    }
   ],
   "source": [
    "# Retrieve the head of the data\n",
    "head_data = cleaned_data.head()\n",
    "print(\"Head of the data:\")\n",
    "print(head_data)"
   ]
  },
  {
   "cell_type": "markdown",
   "id": "9f2fa47f",
   "metadata": {},
   "source": [
    "The appearance of the additional columns \"Daily_Return\", \"MA_50\", and \"MA_200\" after data cleaning suggests that these columns were created during the data cleaning process or subsequent data preprocessing steps.\n",
    "\n",
    "- `Daily_Return` column: This column may represent the daily returns of the stock, calculated as the percentage change in the stock's closing price from the previous day.\n",
    "\n",
    "- `MA_50` column: This column may represent the 50-day moving average of the stock's closing price. The moving average is a commonly used technical indicator that helps smooth out short-term fluctuations in the price and provides a trend-following signal.\n",
    "\n",
    "- `MA_200` column: This column may represent the 200-day moving average of the stock's closing price. Similar to the \"MA_50\" column, this moving average helps identify longer-term trends in the stock's price.\n",
    "\n",
    "These additional columns are likely included as part of the feature engineering or preprocessing steps to provide additional information or indicators that could potentially be used in the stock prediction or analysis."
   ]
  },
  {
   "cell_type": "code",
   "execution_count": 13,
   "id": "906ed722",
   "metadata": {},
   "outputs": [],
   "source": [
    "# Load the cleaned stock data from the CSV file\n",
    "data = pd.read_csv(\"cleaned_stock_data.csv\")\n",
    "\n",
    "# Drop rows with NaN values\n",
    "data = data.dropna()\n",
    "\n",
    "# Save the updated data to a new CSV file\n",
    "data.to_csv(\"cleaned_stock_data_no_nan.csv\", index=False)"
   ]
  },
  {
   "cell_type": "code",
   "execution_count": 14,
   "id": "190cde08",
   "metadata": {},
   "outputs": [
    {
     "name": "stdout",
     "output_type": "stream",
     "text": [
      "         Date       Open       High        Low      Close  Adj Close  \\\n",
      "0  2018-10-16  54.732498  55.747501  54.189999  55.537498  53.261963   \n",
      "1  2018-10-17  55.575001  55.660000  54.834999  55.297501  53.031792   \n",
      "2  2018-10-18  54.465000  54.935001  53.250000  54.005001  51.792252   \n",
      "3  2018-10-19  54.514999  55.314999  54.357498  54.827499  52.581051   \n",
      "4  2018-10-22  54.947498  55.840000  54.735001  55.162498  52.902325   \n",
      "\n",
      "      Volume  Year  Month  Day  Daily_Return     MA_50     MA_200  \n",
      "0  116736000  2018     10   16      0.022037  54.92185  47.399888  \n",
      "1   91541600  2018     10   17     -0.004321  54.99225  47.461050  \n",
      "2  130325200  2018     10   18     -0.023374  55.03610  47.515788  \n",
      "3  132314800  2018     10   19      0.015230  55.08825  47.573638  \n",
      "4  115168400  2018     10   22      0.006110  55.15385  47.630700  \n"
     ]
    }
   ],
   "source": [
    "# Load the updated data from the CSV file\n",
    "df = pd.read_csv(\"cleaned_stock_data_no_nan.csv\")\n",
    "\n",
    "# Print the head of the data\n",
    "print(df.head())"
   ]
  }
 ],
 "metadata": {
  "kernelspec": {
   "display_name": "Python 3 (ipykernel)",
   "language": "python",
   "name": "python3"
  },
  "language_info": {
   "codemirror_mode": {
    "name": "ipython",
    "version": 3
   },
   "file_extension": ".py",
   "mimetype": "text/x-python",
   "name": "python",
   "nbconvert_exporter": "python",
   "pygments_lexer": "ipython3",
   "version": "3.9.12"
  }
 },
 "nbformat": 4,
 "nbformat_minor": 5
}
